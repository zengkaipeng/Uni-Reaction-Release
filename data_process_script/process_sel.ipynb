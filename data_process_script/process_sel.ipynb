{
 "cells": [
  {
   "cell_type": "code",
   "execution_count": null,
   "metadata": {},
   "outputs": [],
   "source": [
    "import pandas as pd\n",
    "import sys\n",
    "import os"
   ]
  },
  {
   "cell_type": "markdown",
   "metadata": {},
   "source": [
    "# helpful Utils Tools"
   ]
  },
  {
   "cell_type": "code",
   "execution_count": null,
   "metadata": {},
   "outputs": [],
   "source": [
    "import pandas as pd\n",
    "import torch\n",
    "from rxnmapper import RXNMapper\n",
    "from rdkit import Chem\n",
    "\n",
    "\n",
    "def get_mol(smiles: str, kekulize: bool = False) -> Chem.Mol:\n",
    "    \"\"\"SMILES string to Mol.\n",
    "    Parameters\n",
    "    ----------\n",
    "    smiles: str,\n",
    "        SMILES string for molecule\n",
    "    kekulize: bool,\n",
    "        Whether to kekulize the molecule\n",
    "    \"\"\"\n",
    "    mol = Chem.MolFromSmiles(smiles)\n",
    "    if mol is not None and kekulize:\n",
    "        Chem.Kekulize(mol)\n",
    "    return mol\n",
    "\n",
    "def canonical_smiles(x):\n",
    "    mol = get_mol(x, kekulize=False)\n",
    "    return Chem.MolToSmiles(mol)\n",
    "\n",
    "def clear_map_number(smi):\n",
    "    \"\"\"Clear the atom mapping number of a SMILES sequence\"\"\"\n",
    "    mol = Chem.MolFromSmiles(smi)\n",
    "    for atom in mol.GetAtoms():\n",
    "        if atom.HasProp('molAtomMapNumber'):\n",
    "            atom.ClearProp('molAtomMapNumber')\n",
    "    return canonical_smiles(Chem.MolToSmiles(mol))\n",
    "\n",
    "\n",
    "def canonical_rxn(rxn):\n",
    "    reac, prod = rxn.split('>>')\n",
    "    reac = clear_map_number(reac)\n",
    "    prod = clear_map_number(prod)\n",
    "    return f'{reac}>>{prod}'\n"
   ]
  },
  {
   "cell_type": "markdown",
   "metadata": {},
   "source": [
    "# add atom-mapping infomation"
   ]
  },
  {
   "cell_type": "code",
   "execution_count": null,
   "metadata": {},
   "outputs": [],
   "source": [
    "# change your source data csv path, here; please ensure 'rxn' column is in the csv file\n",
    "src_data_path = 'Canonicalized_SMILES_Reactions_input_data.csv'\n",
    "source_data = pd.read_csv(src_data_path, header=0, index_col=False)\n",
    "dst_data_path = 'clear_data.csv'\n",
    "source_data['canonicalized_rxn'] = source_data['rxn'].apply(canonical_rxn)\n",
    "rxns = source_data['canonicalized_rxn'].values\n",
    "\n",
    "mapper = RXNMapper()\n",
    "mapped_rxns_info = mapper.get_attention_guided_atom_maps(rxns)\n",
    "mapped_rxns = [info['mapped_rxn'] for info in mapped_rxns_info]\n",
    "confidence = [info['confidence'] for info in mapped_rxns_info]\n",
    "source_data['mapped_rxn'] = mapped_rxns\n",
    "source_data['mapped_score'] = confidence\n",
    "\n",
    "columns = ['canonicalized_rxn', 'Output', 'mapped_rxn', 'mapped_score', 'Arene_smi', 'Radical_smi', 'Product_smi', 'React_sites_Ar_R', 'Prod_sites']\n",
    "source_data:pd.DataFrame = source_data[columns]\n",
    "source_data.rename(columns={'canonicalized_rxn':'rxn', 'Arene_smi':'arene', 'Radical_smi':'radical', 'Output':'output'})\n",
    "source_data.to_csv(dst_data_path)"
   ]
  },
  {
   "cell_type": "code",
   "execution_count": null,
   "metadata": {},
   "outputs": [],
   "source": [
    "# split the dataset as train/val/test part."
   ]
  },
  {
   "cell_type": "code",
   "execution_count": null,
   "metadata": {},
   "outputs": [
    {
     "name": "stdout",
     "output_type": "stream",
     "text": [
      "seed 42 done!\n",
      "seed 2024 done!\n",
      "seed 10086 done!\n",
      "seed 23333 done!\n",
      "seed 66666 done!\n",
      "seed 99999 done!\n",
      "seed 123456 done!\n",
      "seed 654321 done!\n",
      "seed 987654 done!\n",
      "seed 13579 done!\n"
     ]
    }
   ],
   "source": [
    "source_data = 'clear_data.csv'\n",
    "which_data = 'denmark'\n",
    "dst_root_dir = os.path.join(\"YOUR-DST-DIR\", which_data)\n",
    "ratio = 0.7\n",
    "seeds = [42, 2024, 10086, 23333, 66666, 99999, 123456, 654321, 987654, 13579]\n",
    "\n",
    "for seed in seeds:\n",
    "    df = pd.read_csv(source_data)\n",
    "    df = df.sample(frac=1, random_state=seed).reset_index(drop=True)\n",
    "\n",
    "    # sample train[70% * 0.9], val [70% * 0.1] and test[30%] data\n",
    "    train_df = df[:int(len(df) * ratio * 0.9)]\n",
    "    val_df = df[int(len(df) * ratio * 0.9):int(len(df) * ratio)]\n",
    "    test_df = df[int(len(df) * ratio):]\n",
    "\n",
    "    # save to csv\n",
    "    dst_data_dir = os.path.join(dst_root_dir, str(seed))\n",
    "    if not os.path.exists(dst_data_dir):\n",
    "        os.makedirs(dst_data_dir)\n",
    "    train_df.to_csv(os.path.join(dst_data_dir, 'train.csv'), index=False)\n",
    "    val_df.to_csv(os.path.join(dst_data_dir, 'val.csv'), index=False)\n",
    "    test_df.to_csv(os.path.join(dst_data_dir, 'test.csv'), index=False)\n",
    "\n",
    "    print(f'seed {seed} done!')\n"
   ]
  }
 ],
 "metadata": {
  "kernelspec": {
   "display_name": "Python 3 (ipykernel)",
   "language": "python",
   "name": "python3"
  },
  "language_info": {
   "codemirror_mode": {
    "name": "ipython",
    "version": 3
   },
   "file_extension": ".py",
   "mimetype": "text/x-python",
   "name": "python",
   "nbconvert_exporter": "python",
   "pygments_lexer": "ipython3",
   "version": "3.7.12"
  }
 },
 "nbformat": 4,
 "nbformat_minor": 4
}
